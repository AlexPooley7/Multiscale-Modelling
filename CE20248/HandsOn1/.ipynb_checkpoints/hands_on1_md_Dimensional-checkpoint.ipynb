{
 "cells": [
  {
   "cell_type": "code",
   "execution_count": 1,
   "id": "b9a859c1-cabe-4c70-85f2-8cac8a0de52a",
   "metadata": {},
   "outputs": [
    {
     "name": "stdout",
     "output_type": "stream",
     "text": [
      "Jupyter is ready for CE40248\n"
     ]
    }
   ],
   "source": [
    "print(\"Jupyter is ready for CE40248\")"
   ]
  },
  {
   "cell_type": "markdown",
   "id": "4123a5b4-e97a-410d-945b-598455e35953",
   "metadata": {},
   "source": [
    "Input -> Calculate forces and integrate equations of motion -> perform P, control T if necessary -> t = t + deltT -> Calculate and update the molecule position (-> t<tmax back to the calcualte forces tab) -> Output: key output is a trajectory file with positions at a given time, here the thermodynamics and transport properties are determined....\n",
    "\n",
    "Sigma is the diameter of atom and epsilon is the energy of the particle\n",
    "\n",
    "In order to control reaction in terms of energy, need to completely isolate the system. This is not physically 100% possible. Come with a theoretical limit. \n",
    "\n",
    "If try to determine a parameter, do not use the equilibration zone\n",
    "\n"
   ]
  },
  {
   "cell_type": "code",
   "execution_count": 1,
   "id": "30efc5ac-78cc-4a22-9c2a-448eaccbe837",
   "metadata": {},
   "outputs": [],
   "source": [
    "import numpy as np\n",
    "\n",
    "def U_LJ(r, sigma, epsilon): # Function to calculate potential energy LJ\n",
    "    return 4 * epsilon * ((sigma/r)**12 - (sigma/r)**6) # Now dimensional\n",
    "\n",
    "def F_LJ(r, sigma, epsilon): # Function to calculate force magnitude\n",
    "    return 24 * epsilon *(2*(sigma/r)**12 - (sigma/r)**6) / r # Now dimensional\n"
   ]
  },
  {
   "cell_type": "code",
   "execution_count": 2,
   "id": "fb319a5f-8f25-43db-838d-b8e78b32213f",
   "metadata": {},
   "outputs": [],
   "source": [
    "N = 10 # number of particles\n",
    "L = 5.0 # box length (in reduced LJ units)\n",
    "dt = 0.005 # reduced time step (dt* = 0.005)\n",
    "nsteps = 2000 # number of integration steps, where dt=0.005tau and tau = sigma*sqrt(mass/epsilon)\n",
    "sigma = 3.405 * 10**-10\n",
    "epsilon = 1.65 * 10**-21\n",
    "\n",
    "np.random.seed(1) # Sets a random seed up\n",
    "positions = np.random.rand(N, 3) * L # uniform initial positions, and then scaled by L to fit in the box properly (10 x 3 matrix)\n",
    "velocities = np.random.randn(N, 3) # random velocities (normal distribution) (10 x 3 matrix)\n",
    "velocities -= velocities.mean(axis=0) # remove centre-of-mass drift, subtracts from all velocities to ensure doesnt drift through space"
   ]
  },
  {
   "cell_type": "code",
   "execution_count": 3,
   "id": "edc285e5-e1c3-48b3-a904-6bd5300a7699",
   "metadata": {},
   "outputs": [],
   "source": [
    "rc = 2.5 # reduced cutoff (no tail corrections), take as theres no interactions when th distance between the particles is this long\n",
    "\n",
    "def compute_forces(positions, rc=rc, sigma, epsilon): # Function to determine the forces acting on each moleucle due to interaction\n",
    "    N = positions.shape[0] \n",
    "    forces = np.zeros_like(positions) # Makes a matrix the same size as positions to get forces in each direction\n",
    "    potential = 0.0 # Set the potential energy to 0\n",
    "    \n",
    "    for i in range(N - 1): # One less that the total number of particles (as each particle cannot interact with itself)\n",
    "        for j in range(i + 1, N): # Works for all interactions between eevry particle\n",
    "            rij = positions[i] - positions[j] # Distance between the compared particles (vector)\n",
    "            r = np.linalg.norm(rij) # Finds the magnitude of the distance (Euclidian distance)\n",
    "    \n",
    "            # skip self/near-zero distances to avoid division by zero\n",
    "            if r < 1e-12: # Will never get this close, unless randomly placed in same position\n",
    "                continue\n",
    "            if r < rc: # If below the cut of radius, the molecules will interact\n",
    "                fij_mag = F_LJ(r, sigma, epsilon) # reduced LJ force magnitude, calls the reduced LJ F funciton \n",
    "                fij_vec = fij_mag * (rij / r) # takes the magnitude of the forces and applies to all directions\n",
    "                forces[i] += fij_vec # Adds the force vector to I\n",
    "                forces[j] -= fij_vec # Subtracts the force vector from j as moves in opposite direction\n",
    "                potential += U_LJ(r, sigma, epsilon) # reduced pair potential\n",
    "    return forces, potential"
   ]
  },
  {
   "cell_type": "code",
   "execution_count": 4,
   "id": "94494392-c7b8-4d34-bd7a-5d58e08d9c21",
   "metadata": {},
   "outputs": [
    {
     "ename": "NameError",
     "evalue": "name 'compute_forces' is not defined",
     "output_type": "error",
     "traceback": [
      "\u001b[31m---------------------------------------------------------------------------\u001b[39m",
      "\u001b[31mNameError\u001b[39m                                 Traceback (most recent call last)",
      "\u001b[36mCell\u001b[39m\u001b[36m \u001b[39m\u001b[32mIn[4]\u001b[39m\u001b[32m, line 3\u001b[39m\n\u001b[32m      1\u001b[39m \u001b[38;5;28;01mimport\u001b[39;00m\u001b[38;5;250m \u001b[39m\u001b[34;01mmatplotlib\u001b[39;00m\u001b[34;01m.\u001b[39;00m\u001b[34;01mpyplot\u001b[39;00m\u001b[38;5;250m \u001b[39m\u001b[38;5;28;01mas\u001b[39;00m\u001b[38;5;250m \u001b[39m\u001b[34;01mplt\u001b[39;00m\n\u001b[32m      2\u001b[39m \u001b[38;5;66;03m# initial forces and potential\u001b[39;00m\n\u001b[32m----> \u001b[39m\u001b[32m3\u001b[39m forces, pot = \u001b[43mcompute_forces\u001b[49m(positions, rc, sigma, epsilon)\n\u001b[32m      5\u001b[39m KE, PE, TE = [], [], [] \u001b[38;5;66;03m# Lists to store energies\u001b[39;00m\n\u001b[32m      6\u001b[39m save_stride = \u001b[32m10\u001b[39m \u001b[38;5;66;03m# only saves every 10th frame to reduce file size\u001b[39;00m\n",
      "\u001b[31mNameError\u001b[39m: name 'compute_forces' is not defined"
     ]
    }
   ],
   "source": [
    "import matplotlib.pyplot as plt\n",
    "# initial forces and potential\n",
    "forces, pot = compute_forces(positions, rc, sigma, epsilon)\n",
    "\n",
    "KE, PE, TE = [], [], [] # Lists to store energies\n",
    "save_stride = 10 # only saves every 10th frame to reduce file size\n",
    "traj = [] # list of snapshots for XYZ export\n",
    "\n",
    "for step in range(nsteps): # Will fun for amount of steps (2000 originally)\n",
    "    # Velocity-Verlet (m* = 1 => no division by mass)\n",
    "    velocities += 0.5 * forces * dt # Originally the random value, F = ma (no m as reduced), need to account for m \n",
    "    positions += velocities * dt # Then update positions accordingly ue to timestep\n",
    "    forces, pot = compute_forces(positions, sigma, epsilon) # Call the compute forces again and recalculates\n",
    "    velocities += 0.5 * forces * dt # As above...\n",
    "    # energies in reduced units\n",
    "    kin = 0.5 * np.sum(velocities**2) # m* = 1, from og kinetic equation, take into acount all particles\n",
    "    KE.append(kin); PE.append(pot); TE.append(kin + pot)\n",
    "    if step % save_stride == 0:\n",
    "        traj.append(positions.copy()) # avoid aliasing\n",
    "\n",
    "# ---- plot energies (reduced units) ----\n",
    "plt.plot(TE, label='Total')\n",
    "plt.plot(KE, label='Kinetic')\n",
    "plt.plot(PE, label='Potential')\n",
    "plt.xlabel('Time step')\n",
    "plt.ylabel('Energy (reduced units)')\n",
    "plt.title('Energy conservation (Velocity-Verlet, LJ reduced)')\n",
    "plt.legend()\n",
    "plt.show()"
   ]
  },
  {
   "cell_type": "code",
   "execution_count": 5,
   "id": "324122e1-5f45-4286-a63a-6786f7c63a23",
   "metadata": {},
   "outputs": [
    {
     "ename": "NameError",
     "evalue": "name 'traj' is not defined",
     "output_type": "error",
     "traceback": [
      "\u001b[31m---------------------------------------------------------------------------\u001b[39m",
      "\u001b[31mNameError\u001b[39m                                 Traceback (most recent call last)",
      "\u001b[36mCell\u001b[39m\u001b[36m \u001b[39m\u001b[32mIn[5]\u001b[39m\u001b[32m, line 2\u001b[39m\n\u001b[32m      1\u001b[39m \u001b[38;5;28;01mwith\u001b[39;00m \u001b[38;5;28mopen\u001b[39m(\u001b[33m\"\u001b[39m\u001b[33mtraj.xyz\u001b[39m\u001b[33m\"\u001b[39m, \u001b[33m\"\u001b[39m\u001b[33mw\u001b[39m\u001b[33m\"\u001b[39m) \u001b[38;5;28;01mas\u001b[39;00m f: \u001b[38;5;66;03m# creates a xyz file for visulaisation, overwrites if already made\u001b[39;00m\n\u001b[32m----> \u001b[39m\u001b[32m2\u001b[39m     \u001b[38;5;28;01mfor\u001b[39;00m k, frame \u001b[38;5;129;01min\u001b[39;00m \u001b[38;5;28menumerate\u001b[39m(\u001b[43mtraj\u001b[49m): \u001b[38;5;66;03m# list of position snap shots (10, 3) for every time step...\u001b[39;00m\n\u001b[32m      3\u001b[39m         step = k * save_stride \u001b[38;5;66;03m# \u001b[39;00m\n\u001b[32m      4\u001b[39m         f.write(\u001b[33mf\u001b[39m\u001b[33m\"\u001b[39m\u001b[38;5;132;01m{\u001b[39;00mN\u001b[38;5;132;01m}\u001b[39;00m\u001b[38;5;130;01m\\n\u001b[39;00m\u001b[33mStep \u001b[39m\u001b[38;5;132;01m{\u001b[39;00mstep\u001b[38;5;132;01m}\u001b[39;00m\u001b[33m (LJ reduced units, box L=\u001b[39m\u001b[38;5;132;01m{\u001b[39;00mL\u001b[38;5;132;01m}\u001b[39;00m\u001b[33m)\u001b[39m\u001b[38;5;130;01m\\n\u001b[39;00m\u001b[33m\"\u001b[39m)\n",
      "\u001b[31mNameError\u001b[39m: name 'traj' is not defined"
     ]
    }
   ],
   "source": [
    "with open(\"traj.xyz\", \"w\") as f: # creates a xyz file for visulaisation, overwrites if already made\n",
    "    for k, frame in enumerate(traj): # list of position snap shots (10, 3) for every time step...\n",
    "        step = k * save_stride # \n",
    "        f.write(f\"{N}\\nStep {step} (LJ reduced units, box L={L})\\n\")\n",
    "        for x, y, z in frame:\n",
    "            f.write(f\"Ar {x:.6f} {y:.6f} {z:.6f}\\n\")\n"
   ]
  },
  {
   "cell_type": "code",
   "execution_count": 6,
   "id": "951fb2ce-1a2a-4ca3-9e39-a404ada28ffb",
   "metadata": {},
   "outputs": [
    {
     "name": "stdout",
     "output_type": "stream",
     "text": [
      "Defaulting to user installation because normal site-packages is not writeable\n",
      "Requirement already satisfied: py3Dmol in c:\\users\\alexj\\appdata\\local\\packages\\pythonsoftwarefoundation.python.3.13_qbz5n2kfra8p0\\localcache\\local-packages\\python313\\site-packages (2.5.3)\n"
     ]
    },
    {
     "data": {
      "application/3dmoljs_load.v0": "<div id=\"3dmolviewer_176105397930043\"  style=\"position: relative; width: 700px; height: 500px;\">\n        <p id=\"3dmolwarning_176105397930043\" style=\"background-color:#ffcccc;color:black\">3Dmol.js failed to load for some reason.  Please check your browser console for error messages.<br></p>\n        </div>\n<script>\n\nvar loadScriptAsync = function(uri){\n  return new Promise((resolve, reject) => {\n    //this is to ignore the existence of requirejs amd\n    var savedexports, savedmodule;\n    if (typeof exports !== 'undefined') savedexports = exports;\n    else exports = {}\n    if (typeof module !== 'undefined') savedmodule = module;\n    else module = {}\n\n    var tag = document.createElement('script');\n    tag.src = uri;\n    tag.async = true;\n    tag.onload = () => {\n        exports = savedexports;\n        module = savedmodule;\n        resolve();\n    };\n  var firstScriptTag = document.getElementsByTagName('script')[0];\n  firstScriptTag.parentNode.insertBefore(tag, firstScriptTag);\n});\n};\n\nif(typeof $3Dmolpromise === 'undefined') {\n$3Dmolpromise = null;\n  $3Dmolpromise = loadScriptAsync('https://cdn.jsdelivr.net/npm/3dmol@2.5.3/build/3Dmol-min.js');\n}\n\nvar viewer_176105397930043 = null;\nvar warn = document.getElementById(\"3dmolwarning_176105397930043\");\nif(warn) {\n    warn.parentNode.removeChild(warn);\n}\n$3Dmolpromise.then(function() {\nviewer_176105397930043 = $3Dmol.createViewer(document.getElementById(\"3dmolviewer_176105397930043\"),{backgroundColor:\"white\"});\nviewer_176105397930043.zoomTo();\n\tviewer_176105397930043.addModelsAsFrames(\"\",\"xyz\");\n\tviewer_176105397930043.setStyle({\"sphere\": {\"scale\": 0.5, \"colorscheme\": \"Jmol\"}});\n\tviewer_176105397930043.setBackgroundColor(\"white\");\n\tviewer_176105397930043.zoomTo();\n\tviewer_176105397930043.animate({\"loop\": \"forward\", \"reps\": 0, \"step\": 1});\n\tviewer_176105397930043.addLine({\"start\": {\"x\": 0, \"y\": 0, \"z\": 0}, \"end\": {\"x\": 10.0, \"y\": 0, \"z\": 0}, \"color\": \"black\", \"radius\": 0.05});\n\tviewer_176105397930043.addLine({\"start\": {\"x\": 0, \"y\": 0, \"z\": 0}, \"end\": {\"x\": 0, \"y\": 10.0, \"z\": 0}, \"color\": \"black\", \"radius\": 0.05});\n\tviewer_176105397930043.addLine({\"start\": {\"x\": 0, \"y\": 0, \"z\": 0}, \"end\": {\"x\": 0, \"y\": 0, \"z\": 10.0}, \"color\": \"black\", \"radius\": 0.05});\n\tviewer_176105397930043.addLine({\"start\": {\"x\": 10.0, \"y\": 10.0, \"z\": 0}, \"end\": {\"x\": 10.0, \"y\": 0, \"z\": 0}, \"color\": \"black\", \"radius\": 0.05});\n\tviewer_176105397930043.addLine({\"start\": {\"x\": 10.0, \"y\": 10.0, \"z\": 0}, \"end\": {\"x\": 0, \"y\": 10.0, \"z\": 0}, \"color\": \"black\", \"radius\": 0.05});\n\tviewer_176105397930043.addLine({\"start\": {\"x\": 10.0, \"y\": 0, \"z\": 10.0}, \"end\": {\"x\": 10.0, \"y\": 0, \"z\": 0}, \"color\": \"black\", \"radius\": 0.05});\n\tviewer_176105397930043.addLine({\"start\": {\"x\": 10.0, \"y\": 0, \"z\": 10.0}, \"end\": {\"x\": 0, \"y\": 0, \"z\": 10.0}, \"color\": \"black\", \"radius\": 0.05});\n\tviewer_176105397930043.addLine({\"start\": {\"x\": 0, \"y\": 10.0, \"z\": 10.0}, \"end\": {\"x\": 0, \"y\": 10.0, \"z\": 0}, \"color\": \"black\", \"radius\": 0.05});\n\tviewer_176105397930043.addLine({\"start\": {\"x\": 0, \"y\": 10.0, \"z\": 10.0}, \"end\": {\"x\": 0, \"y\": 0, \"z\": 10.0}, \"color\": \"black\", \"radius\": 0.05});\n\tviewer_176105397930043.addLine({\"start\": {\"x\": 10.0, \"y\": 10.0, \"z\": 10.0}, \"end\": {\"x\": 10.0, \"y\": 10.0, \"z\": 0}, \"color\": \"black\", \"radius\": 0.05});\n\tviewer_176105397930043.addLine({\"start\": {\"x\": 10.0, \"y\": 10.0, \"z\": 10.0}, \"end\": {\"x\": 10.0, \"y\": 0, \"z\": 10.0}, \"color\": \"black\", \"radius\": 0.05});\n\tviewer_176105397930043.addLine({\"start\": {\"x\": 10.0, \"y\": 10.0, \"z\": 10.0}, \"end\": {\"x\": 0, \"y\": 10.0, \"z\": 10.0}, \"color\": \"black\", \"radius\": 0.05});\nviewer_176105397930043.render();\n});\n</script>",
      "text/html": [
       "<div id=\"3dmolviewer_176105397930043\"  style=\"position: relative; width: 700px; height: 500px;\">\n",
       "        <p id=\"3dmolwarning_176105397930043\" style=\"background-color:#ffcccc;color:black\">3Dmol.js failed to load for some reason.  Please check your browser console for error messages.<br></p>\n",
       "        </div>\n",
       "<script>\n",
       "\n",
       "var loadScriptAsync = function(uri){\n",
       "  return new Promise((resolve, reject) => {\n",
       "    //this is to ignore the existence of requirejs amd\n",
       "    var savedexports, savedmodule;\n",
       "    if (typeof exports !== 'undefined') savedexports = exports;\n",
       "    else exports = {}\n",
       "    if (typeof module !== 'undefined') savedmodule = module;\n",
       "    else module = {}\n",
       "\n",
       "    var tag = document.createElement('script');\n",
       "    tag.src = uri;\n",
       "    tag.async = true;\n",
       "    tag.onload = () => {\n",
       "        exports = savedexports;\n",
       "        module = savedmodule;\n",
       "        resolve();\n",
       "    };\n",
       "  var firstScriptTag = document.getElementsByTagName('script')[0];\n",
       "  firstScriptTag.parentNode.insertBefore(tag, firstScriptTag);\n",
       "});\n",
       "};\n",
       "\n",
       "if(typeof $3Dmolpromise === 'undefined') {\n",
       "$3Dmolpromise = null;\n",
       "  $3Dmolpromise = loadScriptAsync('https://cdn.jsdelivr.net/npm/3dmol@2.5.3/build/3Dmol-min.js');\n",
       "}\n",
       "\n",
       "var viewer_176105397930043 = null;\n",
       "var warn = document.getElementById(\"3dmolwarning_176105397930043\");\n",
       "if(warn) {\n",
       "    warn.parentNode.removeChild(warn);\n",
       "}\n",
       "$3Dmolpromise.then(function() {\n",
       "viewer_176105397930043 = $3Dmol.createViewer(document.getElementById(\"3dmolviewer_176105397930043\"),{backgroundColor:\"white\"});\n",
       "viewer_176105397930043.zoomTo();\n",
       "\tviewer_176105397930043.addModelsAsFrames(\"\",\"xyz\");\n",
       "\tviewer_176105397930043.setStyle({\"sphere\": {\"scale\": 0.5, \"colorscheme\": \"Jmol\"}});\n",
       "\tviewer_176105397930043.setBackgroundColor(\"white\");\n",
       "\tviewer_176105397930043.zoomTo();\n",
       "\tviewer_176105397930043.animate({\"loop\": \"forward\", \"reps\": 0, \"step\": 1});\n",
       "\tviewer_176105397930043.addLine({\"start\": {\"x\": 0, \"y\": 0, \"z\": 0}, \"end\": {\"x\": 10.0, \"y\": 0, \"z\": 0}, \"color\": \"black\", \"radius\": 0.05});\n",
       "\tviewer_176105397930043.addLine({\"start\": {\"x\": 0, \"y\": 0, \"z\": 0}, \"end\": {\"x\": 0, \"y\": 10.0, \"z\": 0}, \"color\": \"black\", \"radius\": 0.05});\n",
       "\tviewer_176105397930043.addLine({\"start\": {\"x\": 0, \"y\": 0, \"z\": 0}, \"end\": {\"x\": 0, \"y\": 0, \"z\": 10.0}, \"color\": \"black\", \"radius\": 0.05});\n",
       "\tviewer_176105397930043.addLine({\"start\": {\"x\": 10.0, \"y\": 10.0, \"z\": 0}, \"end\": {\"x\": 10.0, \"y\": 0, \"z\": 0}, \"color\": \"black\", \"radius\": 0.05});\n",
       "\tviewer_176105397930043.addLine({\"start\": {\"x\": 10.0, \"y\": 10.0, \"z\": 0}, \"end\": {\"x\": 0, \"y\": 10.0, \"z\": 0}, \"color\": \"black\", \"radius\": 0.05});\n",
       "\tviewer_176105397930043.addLine({\"start\": {\"x\": 10.0, \"y\": 0, \"z\": 10.0}, \"end\": {\"x\": 10.0, \"y\": 0, \"z\": 0}, \"color\": \"black\", \"radius\": 0.05});\n",
       "\tviewer_176105397930043.addLine({\"start\": {\"x\": 10.0, \"y\": 0, \"z\": 10.0}, \"end\": {\"x\": 0, \"y\": 0, \"z\": 10.0}, \"color\": \"black\", \"radius\": 0.05});\n",
       "\tviewer_176105397930043.addLine({\"start\": {\"x\": 0, \"y\": 10.0, \"z\": 10.0}, \"end\": {\"x\": 0, \"y\": 10.0, \"z\": 0}, \"color\": \"black\", \"radius\": 0.05});\n",
       "\tviewer_176105397930043.addLine({\"start\": {\"x\": 0, \"y\": 10.0, \"z\": 10.0}, \"end\": {\"x\": 0, \"y\": 0, \"z\": 10.0}, \"color\": \"black\", \"radius\": 0.05});\n",
       "\tviewer_176105397930043.addLine({\"start\": {\"x\": 10.0, \"y\": 10.0, \"z\": 10.0}, \"end\": {\"x\": 10.0, \"y\": 10.0, \"z\": 0}, \"color\": \"black\", \"radius\": 0.05});\n",
       "\tviewer_176105397930043.addLine({\"start\": {\"x\": 10.0, \"y\": 10.0, \"z\": 10.0}, \"end\": {\"x\": 10.0, \"y\": 0, \"z\": 10.0}, \"color\": \"black\", \"radius\": 0.05});\n",
       "\tviewer_176105397930043.addLine({\"start\": {\"x\": 10.0, \"y\": 10.0, \"z\": 10.0}, \"end\": {\"x\": 0, \"y\": 10.0, \"z\": 10.0}, \"color\": \"black\", \"radius\": 0.05});\n",
       "viewer_176105397930043.render();\n",
       "});\n",
       "</script>"
      ]
     },
     "metadata": {},
     "output_type": "display_data"
    }
   ],
   "source": [
    "# ============================================\n",
    "# Visualise Particle Dispersion from XYZ file\n",
    "# using py3Dmol in Jupyter Notebook\n",
    "# ============================================\n",
    "\n",
    "# Step 1: Install py3Dmol if needed\n",
    "!pip install py3Dmol\n",
    "\n",
    "# Step 2: Import and load your .xyz file\n",
    "import py3Dmol\n",
    "\n",
    "# Replace this with your file name\n",
    "filename = \"traj.xyz\"\n",
    "\n",
    "with open(filename) as f:\n",
    "    xyz_data = f.read()\n",
    "\n",
    "# Step 3: Create viewer\n",
    "view = py3Dmol.view(width=700, height=500)\n",
    "\n",
    "# Add all XYZ frames as animation frames\n",
    "view.addModelsAsFrames(xyz_data, 'xyz')\n",
    "\n",
    "# Step 4: Style options\n",
    "view.setStyle({'sphere': {'scale': 0.5, 'colorscheme': 'Jmol'}})  # spheres for particles\n",
    "view.setBackgroundColor('white')\n",
    "view.zoomTo()\n",
    "\n",
    "# Step 5: Animation controls\n",
    "# Adjust 'step' for speed; smaller = slower animation\n",
    "view.animate({'loop': 'forward', 'reps': 0, 'step': 1})\n",
    "\n",
    "# Step 6: Optional — draw a box to represent the simulation boundary\n",
    "# If your XYZ doesn’t specify box dimensions, set them manually:\n",
    "box_size = 10.0  # edit this to match your system dimensions\n",
    "\n",
    "# Draw edges of a cubic box for context\n",
    "edges = [\n",
    "    [[0,0,0],[box_size,0,0]], [[0,0,0],[0,box_size,0]], [[0,0,0],[0,0,box_size]],\n",
    "    [[box_size,box_size,0],[box_size,0,0]], [[box_size,box_size,0],[0,box_size,0]],\n",
    "    [[box_size,0,box_size],[box_size,0,0]], [[box_size,0,box_size],[0,0,box_size]],\n",
    "    [[0,box_size,box_size],[0,box_size,0]], [[0,box_size,box_size],[0,0,box_size]],\n",
    "    [[box_size,box_size,box_size],[box_size,box_size,0]],\n",
    "    [[box_size,box_size,box_size],[box_size,0,box_size]],\n",
    "    [[box_size,box_size,box_size],[0,box_size,box_size]]\n",
    "]\n",
    "\n",
    "for edge in edges:\n",
    "    view.addLine({'start': {'x': edge[0][0], 'y': edge[0][1], 'z': edge[0][2]},\n",
    "                  'end': {'x': edge[1][0], 'y': edge[1][1], 'z': edge[1][2]},\n",
    "                  'color': 'black', 'radius': 0.05})\n",
    "\n",
    "view.show()\n"
   ]
  },
  {
   "cell_type": "code",
   "execution_count": null,
   "id": "ffba215f-d05a-4847-a9b2-0f1b93f148d2",
   "metadata": {},
   "outputs": [],
   "source": []
  },
  {
   "cell_type": "code",
   "execution_count": null,
   "id": "4b8e676a-ab09-4e8a-ada0-a5ea9deb1497",
   "metadata": {},
   "outputs": [],
   "source": []
  }
 ],
 "metadata": {
  "kernelspec": {
   "display_name": "Python 3 (ipykernel)",
   "language": "python",
   "name": "python3"
  },
  "language_info": {
   "codemirror_mode": {
    "name": "ipython",
    "version": 3
   },
   "file_extension": ".py",
   "mimetype": "text/x-python",
   "name": "python",
   "nbconvert_exporter": "python",
   "pygments_lexer": "ipython3",
   "version": "3.13.9"
  }
 },
 "nbformat": 4,
 "nbformat_minor": 5
}
